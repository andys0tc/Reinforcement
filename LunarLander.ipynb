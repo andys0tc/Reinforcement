{
 "cells": [
  {
   "cell_type": "code",
   "execution_count": 10,
   "metadata": {},
   "outputs": [],
   "source": [
    "import numpy as np\n",
    "import gym\n",
    "import random\n",
    "import intervals as I\n",
    "import random\n",
    "import time\n",
    "from IPython.display import clear_output\n"
   ]
  },
  {
   "cell_type": "code",
   "execution_count": 2,
   "metadata": {},
   "outputs": [],
   "source": [
    "env = gym.make('LunarLander-v2')"
   ]
  },
  {
   "cell_type": "code",
   "execution_count": 3,
   "metadata": {},
   "outputs": [],
   "source": [
    "\n",
    "#state_space_size = env.observation_space.shape[0]\n",
    "state_space_size = 864\n",
    "action_space_size = env.action_space.n  #sample of actions\n",
    "q_table = np.zeros((state_space_size, action_space_size)) # q-table in zeros\n",
    "\n",
    "num_episodes = 1000\n",
    "max_steps_per_episode = 100\n",
    "\n",
    "\n",
    "\n",
    "\n",
    "#parameters\n",
    "learning_rate = 0.1\n",
    "discount_rate = 0.99\n",
    "#epsilon greedy trade off\n",
    "exploration_rate = 1\n",
    "max_exploration_rate = 1\n",
    "min_exploration_rate = 0.001\n",
    "exploration_decay_rate = 0.001\n"
   ]
  },
  {
   "cell_type": "code",
   "execution_count": 4,
   "metadata": {},
   "outputs": [],
   "source": [
    "\n",
    "def selectIndex(state):\n",
    "    x_pos = discretize_space_position(state[0])\n",
    "    y_pos = discretize_space_position(state[1])\n",
    "    angle = discretize_space_position(state[4])\n",
    "    legs = dicretize_space_legs(state[7],state[6])\n",
    "    index = (legs*216)+(angle*36)+(x_pos*6)+y_pos\n",
    "    return index"
   ]
  },
  {
   "cell_type": "code",
   "execution_count": 5,
   "metadata": {},
   "outputs": [],
   "source": [
    "def discretize_space_position(pos):\n",
    "    if pos in I.openclosed(-3,-1):\n",
    "        return 0\n",
    "    elif pos in I.openclosed(-1,-0.5):\n",
    "        return 1\n",
    "    elif pos in I.openclosed(-0.5,0):\n",
    "        return 2\n",
    "    elif pos in I.openclosed(0,0.5):\n",
    "        return 3\n",
    "    elif pos in I.openclosed(0.5,1):\n",
    "        return 4\n",
    "    elif pos in I.openclosed(1,1.6):\n",
    "        return 5\n",
    "    else:\n",
    "        print(\"Outliers de posición: %0.03f\" %pos)\n",
    "        return random.randint(0,5)"
   ]
  },
  {
   "cell_type": "code",
   "execution_count": 6,
   "metadata": {},
   "outputs": [],
   "source": [
    "def discretize_space(angle):\n",
    "    if angle in I.openclosed(-0.5,0):\n",
    "        return 0\n",
    "    elif angle in I.openclosed(0,0.5):\n",
    "        return 1\n",
    "    elif angle in I.openclosed(0.5,1):\n",
    "        return 2\n",
    "    elif angle in I.openclosed(1,1.5):\n",
    "        return 3\n",
    "    else:\n",
    "        print(\"Outliers de angulo: %0.03f\" % angle)\n",
    "        return random.randint(0, 3)"
   ]
  },
  {
   "cell_type": "code",
   "execution_count": 7,
   "metadata": {},
   "outputs": [],
   "source": [
    "def dicretize_space_legs(left,right):\n",
    "    if (left==0 and right==0):\n",
    "        return 0\n",
    "    elif(left==0 and right==1):\n",
    "        return 1\n",
    "    elif(left==1 and right==0):\n",
    "        return 2\n",
    "    else:\n",
    "        return 3\n"
   ]
  },
  {
   "cell_type": "code",
   "execution_count": 8,
   "metadata": {},
   "outputs": [],
   "source": [
    "\n",
    "rewards_all_episodes = []\n",
    "state = env.reset()\n",
    "action = env.action_space.sample()\n"
   ]
  },
  {
   "cell_type": "code",
   "execution_count": null,
   "metadata": {},
   "outputs": [],
   "source": [
    "\n",
    "# Q-learning algorithm\n",
    "for episode in range(num_episodes):  # cada episodio\n",
    "    # initialize new episode params\n",
    "    state = env.reset()             # se resetea el ambiente a valores iniciales\n",
    "    index_state = selectIndex(state)\n",
    "    done = False                    # True si el episodio ha terminado\n",
    "    rewards_current_episode = 0     # recompesa del episodio\n",
    "\n",
    "    for step in range(max_steps_per_episode):   #Cada tiempo/paso del episodio\n",
    "        # Exploration-exploitation trade-off\n",
    "        exploration_rate_threshold = random.uniform(0, 1)\n",
    "        if exploration_rate_threshold > exploration_rate:  #Explota\n",
    "            action = np.argmax(q_table[index_state, :])\n",
    "        else:\n",
    "            action = env.action_space.sample()              #Explora\n",
    "        # Take new action\n",
    "        env.render()\n",
    "        new_state, reward, done, info = env.step(action)\n",
    "        new_index_state = selectIndex(new_state)\n",
    "\n",
    "        # Update Q-table\n",
    "        q_table[index_state, action] = q_table[index_state, action] * (1 - learning_rate) + learning_rate * (reward + discount_rate * np.max(q_table[new_index_state, :]))\n",
    "        # Set new state\n",
    "        # Add new reward\n",
    "        state = new_state\n",
    "        rewards_current_episode += reward\n",
    "\n",
    "        if done ==True:\n",
    "            break\n",
    "    print(\"fin de episodio\")\n",
    "    print(state[0])\n",
    "    print(state[1])\n",
    "    print(\"Reward Final %.03f\" %rewards_current_episode)\n",
    "\n",
    "    # Exploration rate decay\n",
    "    #exploration_rate = min_exploration_rate + (max_exploration_rate - min_exploration_rate) * np.exp(-exploration_decay_rate*episode)\n",
    "    exploration_rate = 0.4\n",
    "    rewards_all_episodes.append(rewards_current_episode)\n"
   ]
  },
  {
   "cell_type": "code",
   "execution_count": null,
   "metadata": {},
   "outputs": [],
   "source": [
    "\n",
    "# Calculate and print the average reward per thousand episodes\n",
    "rewards_per_hundred_episodes = np.split(np.array(rewards_all_episodes),num_episodes/10)\n",
    "count = 100\n",
    "\n",
    "np.savetxt('qtable.txt',q_table )\n",
    "print(\"********Average reward per thousand episodes********\\n\")\n",
    "for r in rewards_per_hundred_episodes:\n",
    "    print(count, \": \", str(sum(r)/10))\n",
    "    #print(count, \": \", str(sum(r/100)))\n",
    "    count += 100\n",
    "\n"
   ]
  }
 ],
 "metadata": {
  "kernelspec": {
   "display_name": "tf_env",
   "language": "python",
   "name": "tf_env"
  },
  "language_info": {
   "codemirror_mode": {
    "name": "ipython",
    "version": 3
   },
   "file_extension": ".py",
   "mimetype": "text/x-python",
   "name": "python",
   "nbconvert_exporter": "python",
   "pygments_lexer": "ipython3",
   "version": "3.5.6"
  }
 },
 "nbformat": 4,
 "nbformat_minor": 2
}
